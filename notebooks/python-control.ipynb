{
 "metadata": {
  "name": "python-control"
 },
 "nbformat": 3,
 "nbformat_minor": 0,
 "worksheets": [
  {
   "cells": [
    {
     "cell_type": "markdown",
     "metadata": {},
     "source": [
      "# Python-Control, a tutorial\n",
      "\n",
      "## Goals\n",
      "\n",
      "* Learn how to use the controls library\n",
      "* Develop a small model representing frequency response of an electricity grid\n",
      "\n",
      "## Overview\n",
      "\n",
      "I've yet to find many controls libraries in python which simplify life in any appreciable fashion.\n",
      "I'm afraid to say that Simulink and Matlab appear to still have this market locked down.\n",
      "Recently I've had the pleasure of finding the [python controls](https://www.cds.caltech.edu/~murray/wiki/Control_Systems_Library_for_Python) library for Python.\n",
      "Unfortunately this library isn't on github, and the syntax could do with a bit of work.\n",
      "You can find the source code on [SourceForge](http://sourceforge.net/p/python-control/wiki/Download/) as well as the [Documentation](http://python-control.sourceforge.net/manual/) and an [example](https://www.cds.caltech.edu/~murray/wiki/index.php/Python-control/Example:_Vertical_takeoff_and_landing_aircraft).\n",
      "\n",
      "This exists as a wrapper around some scipy functions, specifically the LTI module and set of classes.\n",
      "It was originally intended as a method of working through the example contained in the [Feedback Systems[(http://www.cds.caltech.edu/~murray/amwiki/index.php/Main_Page) textbook.\n",
      "However it doesn't appear to have been updated for at least a year.\n",
      "This ipython notebook is intended to serve as an interactive example to the library.\n",
      "\n",
      "## Theory\n",
      "\n",
      "LTI (Linear time invariant) systems are an important tool in understanding the dynamics of a system.\n",
      "One such system which has popped up in my work is modelling the Frequency Response of an Electricity Grid to a step change disturbance, e.g. the disconnection of a large generator.\n",
      "To understand what happens in the immediate aftermath of such a shock the dynamic response of the system is necessary.\n",
      "We'll go through some of the specifics in this notebook, I'll be using the dynamics notes of Goran Andersson which may be found [here, warning pdf document](http://www.eeh.ee.ethz.ch/fileadmin/user_upload/eeh/studies/courses/power_system_dynamics_and_control/Documents/DynamicsPartI_lecture_notes_2012.pdf).\n"
     ]
    },
    {
     "cell_type": "code",
     "collapsed": false,
     "input": [
      "# Import Required Modules\n",
      "import control\n",
      "import numpy as np\n",
      "import matplotlib.pyplot as plt\n",
      "from IPython.core.display import Image"
     ],
     "language": "python",
     "metadata": {},
     "outputs": [],
     "prompt_number": 3
    },
    {
     "cell_type": "markdown",
     "metadata": {},
     "source": [
      "### Constants\n",
      "\n",
      "* In any model we need to make a series of Assumptions regarding the System\n",
      "* Define a series of Constants\n",
      "* These are taken from the Dynamics Part1 lecture notes\n",
      "* We'll be attempting to model (in two steps) the following system"
     ]
    },
    {
     "cell_type": "code",
     "collapsed": false,
     "input": [
      "Image(url=\"https://raw.github.com/NigelCleland/tutorial_series/master/img/full_electricity_dynamic_model.png\")"
     ],
     "language": "python",
     "metadata": {},
     "outputs": [
      {
       "html": [
        "<img src=\"https://raw.github.com/NigelCleland/tutorial_series/master/img/full_electricity_dynamic_model.png\" />"
       ],
       "output_type": "pyout",
       "prompt_number": 9,
       "text": [
        "<IPython.core.display.Image at 0x3cb7d10>"
       ]
      }
     ],
     "prompt_number": 9
    },
    {
     "cell_type": "markdown",
     "metadata": {},
     "source": [
      "To model this system we'll define a series of Transfer Functions and Constants intended to model the system."
     ]
    },
    {
     "cell_type": "code",
     "collapsed": false,
     "input": [
      "# Define Constants\n",
      "fo = 50 # Hz, System Frequency\n",
      "Sb = 2500 # MW, Installed Generation base\n",
      "S = 1. / 500. # Hz/MW\n",
      "Dl = 1. / 80. # Hz/MW\n",
      "delP = 400 # MW, Generator loss\n",
      "H = 5 # s\n",
      "Wo = 0 # MW/Hz\n",
      "Tt = 0.2 # s, Turbine Response time"
     ],
     "language": "python",
     "metadata": {},
     "outputs": [],
     "prompt_number": 12
    },
    {
     "cell_type": "markdown",
     "metadata": {},
     "source": [
      "# Transfer Functions:\n",
      "\n",
      "* Define a series of five transfer functions K1 - K5.\n",
      "* We can define a series of Transfer Functions to make manipulations easier.\n",
      "\n",
      "#### Frequency Dependent Loads\n",
      "\n",
      "\\begin{equation}\n",
      "K1 = \\frac{1}{D_l}\n",
      "\\end{equation}"
     ]
    },
    {
     "cell_type": "code",
     "collapsed": false,
     "input": [
      "K1 = control.TransferFunction([1], [Dl])"
     ],
     "language": "python",
     "metadata": {},
     "outputs": [],
     "prompt_number": 13
    },
    {
     "cell_type": "markdown",
     "metadata": {},
     "source": [
      "#### Rotating mass loads\n",
      "\n",
      "\\begin{equation}\n",
      "K2 = \\frac{2W_{0}s}{f_0}\n",
      "\\end{equation}"
     ]
    },
    {
     "cell_type": "code",
     "collapsed": false,
     "input": [
      "K2 = control.TransferFunction([2*Wo, 0], [fo])"
     ],
     "language": "python",
     "metadata": {},
     "outputs": [],
     "prompt_number": 14
    },
    {
     "cell_type": "markdown",
     "metadata": {},
     "source": [
      "#### Primary Control\n",
      "\n",
      "\\begin{equation}\n",
      "K3 = -\\frac{1}{S}\n",
      "\\end{equation}"
     ]
    },
    {
     "cell_type": "code",
     "collapsed": false,
     "input": [
      "K3 = control.TransferFunction([-1], [S])"
     ],
     "language": "python",
     "metadata": {},
     "outputs": [],
     "prompt_number": 15
    },
    {
     "cell_type": "markdown",
     "metadata": {},
     "source": [
      "#### Turbine Dynamics Control\n",
      "\n",
      "\\begin{equation}\n",
      "K4 = \\frac{1}{T_{t}s + 1}\n",
      "\\end{equation}"
     ]
    },
    {
     "cell_type": "code",
     "collapsed": false,
     "input": [
      "K4 = control.TransferFunction([1], [Tt, 1])"
     ],
     "language": "python",
     "metadata": {},
     "outputs": [],
     "prompt_number": 16
    },
    {
     "cell_type": "markdown",
     "metadata": {},
     "source": [
      "#### System Inertia\n",
      "\n",
      "\\begin{equation}\n",
      "K5 = \\frac{f_0}{2HS_{B}s}\n",
      "\\end{equation}"
     ]
    },
    {
     "cell_type": "code",
     "collapsed": false,
     "input": [
      "K5 = control.TransferFunction([fo], [2*H*Sb, 0])"
     ],
     "language": "python",
     "metadata": {},
     "outputs": [],
     "prompt_number": 17
    },
    {
     "cell_type": "markdown",
     "metadata": {},
     "source": [
      "## Back to the theory and the implementation.\n",
      "\n",
      "Right, in an LTI system we can define Transfer Blocks which have a defined syntax.\n",
      "These are specified in the Laplace domain.\n",
      "An example of a Transfer Block is the following.\n",
      "\n",
      "\\begin{equation}\n",
      "K = \\frac{s}{s^2 + 6s + 3}\n",
      "\\end{equation}\n",
      "\n",
      "However, we need to represent this as a piece of code.\n",
      "Enter the TransferFunction class.\n",
      "With this class we can specify our transfer functions using the appropriate syntax.\n",
      "However, one quirk is that we need to define all of the exponents below the highest.\n",
      "\n",
      "Hence, the zero in the following transfer function is required\n",
      "\n",
      "```\n",
      "K = control.TransferFunction([1, 0], [1, 6, 3])\n",
      "```\n",
      "\n",
      "## Deriving Transfer Functions.\n",
      "\n",
      "One thing we can do is aggregate transfer functions together in order to get a single item.\n",
      "There are a series of rules for doing this which I won't be going in to (note, possibly revisit this).\n",
      "However, we can use the parallel and series blocks to simplify our assessment.\n",
      "\n",
      "I'll work with a simpler case of a Frequency Model which does not have Automatic Governor Control (AGC) to begin with.\n",
      "\n"
     ]
    },
    {
     "cell_type": "code",
     "collapsed": false,
     "input": [
      "Image(url=\"https://raw.github.com/NigelCleland/tutorial_series/master/img/simpler_frequency_model.png\")"
     ],
     "language": "python",
     "metadata": {},
     "outputs": [
      {
       "html": [
        "<img src=\"https://raw.github.com/NigelCleland/tutorial_series/master/img/simpler_frequency_model.png\" />"
       ],
       "output_type": "pyout",
       "prompt_number": 8,
       "text": [
        "<IPython.core.display.Image at 0x3cb7c10>"
       ]
      }
     ],
     "prompt_number": 8
    },
    {
     "cell_type": "markdown",
     "metadata": {},
     "source": [
      "## "
     ]
    },
    {
     "cell_type": "markdown",
     "metadata": {},
     "source": [
      "## We can now start aggregating these transfer functions together.\n",
      "\n",
      "* I prefer to use the parallel equations and dummy variable approach to accomplishing this.\n",
      "* I haven't yet figured out if there is a simpler way to get the library to do it.\n",
      "\n",
      "### Methodology.\n",
      "\n",
      "* Let the output = $y$ and input = $u$.\n",
      "* Define dummy variables at each point after an operation\n",
      "\n",
      "$ v = u + w $\n",
      "\n",
      "$ z = t - v $\n",
      "\n",
      "$ y = K5z $\n",
      "\n",
      "$ t = K3 \\times K4 \\times y $\n",
      "\n",
      "$ w = p + q $\n",
      "\n",
      "$ p = K1 \\times z $\n",
      "\n",
      "$ q = K2 \\times z $\n",
      "\n",
      "### Substitute these into one another\n",
      "\n",
      "$ v = u + y(K1 + K2) $\n",
      "\n",
      "$ z = -u - y(K1 + K2) + K3K4y $\n",
      "\n",
      "$ y = K5(-u - y(K1 + K2) + K3K4y $\n",
      "\n",
      "### Isolate y and divide through by K5\n",
      "\n",
      "$ y(-K3K4 + (K1 + K2) + 1/K5) = -u $\n",
      "\n",
      "$ y = \\frac{-u}{-K3K4 + (K1 + K2) + 1/K5} $"
     ]
    },
    {
     "cell_type": "code",
     "collapsed": false,
     "input": [
      "# Join the primary control and turbine dynamics in series.\n",
      "# Note we are assuming that delPmset = 0 for this\n",
      "G1 = control.series(K3, K4)\n",
      "\n",
      "# Inverse the system inertia. (Should the aggregations diagramatically later)\n",
      "G2 = 1 / K5\n",
      "\n",
      "# Model the load response to frequency\n",
      "G3 = control.parallel(K1, K2)\n",
      "\n",
      "# Combine them all along the bottom line (-K3K4 + K1 + K2 + 1/K5)\n",
      "G4 = control.parallel(control.negate(G1), G3)\n",
      "G5 = control.parallel(G4, G2)\n",
      "\n",
      "# Inverse (negative) the resulting transfer function in order to get it in the appropriate format\n",
      "# Multiply by negative one as required\n",
      "G6 = -1 / G5\n",
      "\n",
      "\n"
     ],
     "language": "python",
     "metadata": {},
     "outputs": [],
     "prompt_number": 19
    },
    {
     "cell_type": "markdown",
     "metadata": {},
     "source": [
      "## What Next\n",
      "\n",
      "Well, we now have a working frequency model in terms of the load drop experienced.\n",
      "Let's test it out!"
     ]
    },
    {
     "cell_type": "code",
     "collapsed": false,
     "input": [
      "# Create the step response, view it over 10 seconds\n",
      "T = np.linspace(0, 10, 1000)\n",
      "(Tx, Yx) = control.step_response(G6, T=T)"
     ],
     "language": "python",
     "metadata": {},
     "outputs": [],
     "prompt_number": 20
    },
    {
     "cell_type": "code",
     "collapsed": false,
     "input": [
      "# Multiply the Step Response by 400 to scale it up, add 50 to get it in proper terms\n",
      "Yact = fo + Yx * delP\n",
      "\n",
      "# Determine the System Gain as it's quite nice to know\n",
      "gain = 1 / G6.pole() * -1\n",
      "\n",
      "# Plot the resulting frequency drop\n",
      "fig, axes = plt.subplots(1,1, figsize=(16,9))\n",
      "axes.plot(Tx, Yact, linewidth=2, c='k')\n",
      "axes.set_xlabel(\"Seconds after Trip [s]\", fontsize=16, fontname='serif')\n",
      "axes.set_ylabel(\"Frequency [Hz]\", fontsize=16, fontname='serif')"
     ],
     "language": "python",
     "metadata": {},
     "outputs": [
      {
       "output_type": "pyout",
       "prompt_number": 35,
       "text": [
        "<matplotlib.text.Text at 0x48bdc10>"
       ]
      },
      {
       "output_type": "display_data",
       "png": "[encoded data removed]"
      }
     ],
     "prompt_number": 35
    },
    {
     "cell_type": "markdown",
     "metadata": {},
     "source": [
      "# Viola\n",
      "\n",
      "* We now have a simple frequency model which responded to a trip and gave us the frequency in terms of the dynamics of the system input\n",
      "* Not bad for a few lines of Python Code\n"
     ]
    },
    {
     "cell_type": "markdown",
     "metadata": {},
     "source": [
      "# AGC Inbuilt Model\n",
      "\n",
      "* Build up a more complex model which has an AGC controller in it to mimic the frequency response from the system.\n",
      "* Boom baby"
     ]
    },
    {
     "cell_type": "code",
     "collapsed": false,
     "input": [
      "# New Variables to Define\n",
      "Cp = 0.17 \n",
      "Tn = 120 # s\n",
      "B = 1 / S"
     ],
     "language": "python",
     "metadata": {},
     "outputs": [],
     "prompt_number": 22
    },
    {
     "cell_type": "code",
     "collapsed": false,
     "input": [
      "# New Transfer Functions\n",
      "K6 = control.tf([B], [1])\n",
      "K7 = control.negate(control.tf([Tn*Cp, 1], [Tn, 0]))"
     ],
     "language": "python",
     "metadata": {},
     "outputs": [],
     "prompt_number": 23
    },
    {
     "cell_type": "markdown",
     "metadata": {},
     "source": [
      "# Begin aggregating the Transfer Functions together again\n",
      "\n",
      "y = (K1 + K2 + 1/K5 - K3K4 - K4K6K7)"
     ]
    },
    {
     "cell_type": "code",
     "collapsed": false,
     "input": [
      "K3K4 = control.series(K3, K4)\n",
      "K4K6K7 = control.series(control.series(K4,K6), K7)"
     ],
     "language": "python",
     "metadata": {},
     "outputs": [],
     "prompt_number": 24
    },
    {
     "cell_type": "code",
     "collapsed": false,
     "input": [
      "Gload = control.parallel(K1, K2)\n",
      "Gsys = control.parallel(Gload, 1/K5)\n",
      "Gm = control.parallel(Gsys, control.negate(K3K4))\n",
      "Gm2 = control.parallel(Gm, control.negate(K4K6K7))\n",
      "Gactual = -1 / Gm2"
     ],
     "language": "python",
     "metadata": {},
     "outputs": [],
     "prompt_number": 25
    },
    {
     "cell_type": "code",
     "collapsed": false,
     "input": [
      "T = np.linspace(0,1000, 100000)\n",
      "(t, y) = control.step_response(Gactual, T=T)"
     ],
     "language": "python",
     "metadata": {},
     "outputs": [],
     "prompt_number": 26
    },
    {
     "cell_type": "code",
     "collapsed": false,
     "input": [
      "freq = fo + delP * y\n",
      "fig, axes = plt.subplots(1,1,figsize=(16,9))\n",
      "axes.plot(t, freq)\n",
      "axes.set_xlim(0,50)\n",
      "plt.xlabel(\"Time after trip [s]\")\n",
      "plt.ylabel(\"Frequency [Hz]\")"
     ],
     "language": "python",
     "metadata": {},
     "outputs": [
      {
       "output_type": "pyout",
       "prompt_number": 27,
       "text": [
        "<matplotlib.text.Text at 0x373a310>"
       ]
      },
      {
       "output_type": "display_data",
       "png": "[encoded data removed]"
      }
     ],
     "prompt_number": 27
    },
    {
     "cell_type": "code",
     "collapsed": false,
     "input": [
      "fig, axes = plt.subplots(1,1,figsize=(16,9))\n",
      "axes.plot(t, freq)\n",
      "plt.xlim(-10, 1000)\n",
      "plt.ylabel(\"Frequency [Hz]\")\n",
      "plt.xlabel(\"Time after trip [s]\")"
     ],
     "language": "python",
     "metadata": {},
     "outputs": [
      {
       "output_type": "pyout",
       "prompt_number": 28,
       "text": [
        "<matplotlib.text.Text at 0x3765150>"
       ]
      },
      {
       "output_type": "display_data",
       "png": "[encoded data removed]"
      }
     ],
     "prompt_number": 28
    }
   ],
   "metadata": {}
  }
 ]
}